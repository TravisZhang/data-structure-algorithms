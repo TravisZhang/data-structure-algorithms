{
 "cells": [
  {
   "cell_type": "markdown",
   "metadata": {
    "graffitiCellId": "id_vxtrcg7"
   },
   "source": [
    "### Problem Statement\n",
    "\n",
    "Given an input string consisting of only `{` and `}`, figure out the minimum number of reversals required to make the brackets balanced.\n",
    "\n",
    "For example:\n",
    "* For `input_string = \"}}}}`, the number of reversals required is `2`.\n",
    "\n",
    "\n",
    "* For `input_string = \"}{}}`, the number of reversals required is `1`.\n",
    "\n",
    "\n",
    "If the brackets cannot be balanced, return `-1` to indicate that it is not possible to balance them."
   ]
  },
  {
   "cell_type": "code",
   "execution_count": 1,
   "metadata": {},
   "outputs": [],
   "source": [
    "class LinkedListNode:\n",
    "\n",
    "    def __init__(self, data):\n",
    "        self.data = data\n",
    "        self.next = None\n",
    "\n",
    "class Stack:\n",
    "\n",
    "    def __init__(self):\n",
    "        self.num_elements = 0\n",
    "        self.head = None\n",
    "\n",
    "    def push(self, data):\n",
    "        new_node = LinkedListNode(data)\n",
    "        if self.head is None:\n",
    "            self.head = new_node\n",
    "        else:\n",
    "            new_node.next = self.head\n",
    "            self.head = new_node\n",
    "        self.num_elements += 1\n",
    "\n",
    "    def pop(self):\n",
    "        if self.is_empty():\n",
    "            return None\n",
    "        temp = self.head.data\n",
    "        self.head = self.head.next\n",
    "        self.num_elements -= 1\n",
    "        return temp\n",
    "\n",
    "    def top(self):\n",
    "        if self.head is None:\n",
    "            return None\n",
    "        return self.head.data\n",
    "\n",
    "    def size(self):\n",
    "        return self.num_elements\n",
    "\n",
    "    def is_empty(self):\n",
    "        return self.num_elements == 0\n"
   ]
  },
  {
   "cell_type": "code",
   "execution_count": 2,
   "metadata": {
    "graffitiCellId": "id_8y5l66z"
   },
   "outputs": [],
   "source": [
    "def minimum_bracket_reversals(input_string):\n",
    "    \"\"\"\n",
    "    Calculate the number of reversals to fix the brackets\n",
    "\n",
    "    Args:\n",
    "       input_string(string): Strings to be used for bracket reversal calculation\n",
    "    Returns:\n",
    "       int: Number of breacket reversals needed\n",
    "    \"\"\"\n",
    "    \n",
    "    # TODO: Write function here\n",
    "    if len(input_string) % 2 != 0 or len(input_string) == 0:\n",
    "        return -1\n",
    "    stack = Stack()\n",
    "    num = 0\n",
    "    length = len(input_string)\n",
    "    remain_len = length\n",
    "    print(\"len: %d\" % length)\n",
    "    for i in range(length):\n",
    "        c = input_string[i]\n",
    "#         print(\"c: %c, num: %d\" % (c , num))\n",
    "        if c == '{':\n",
    "            if stack.is_empty():\n",
    "                stack.push(c)\n",
    "            else:\n",
    "                if i - (length - remain_len) > remain_len / 2 - 1:\n",
    "                    num += 1\n",
    "                else:\n",
    "                    stack.push(c)      \n",
    "        else:\n",
    "            if stack.is_empty():\n",
    "                stack.push('{')\n",
    "                num += 1\n",
    "            else:\n",
    "                stack.pop()\n",
    "                remain_len -= 2\n",
    "                \n",
    "        print(\"i: %d, remain_len: %d, c: %c, num: %d, stack num: %d\" % (i, remain_len, c, num, stack.num_elements))\n",
    "    print(\"num: %d\" % num)\n",
    "    return num\n",
    "    pass\n",
    "\n"
   ]
  },
  {
   "cell_type": "code",
   "execution_count": 3,
   "metadata": {
    "graffitiCellId": "id_z5q6m05"
   },
   "outputs": [],
   "source": [
    "def test_function(test_case):\n",
    "    input_string = test_case[0]\n",
    "    expected_output = test_case[1]\n",
    "    output = minimum_bracket_reversals(input_string)\n",
    "    \n",
    "    if output == expected_output:\n",
    "        print(\"Pass\")\n",
    "    else:\n",
    "        print(\"Fail\")\n"
   ]
  },
  {
   "cell_type": "code",
   "execution_count": 4,
   "metadata": {
    "graffitiCellId": "id_y67zaj9"
   },
   "outputs": [
    {
     "name": "stdout",
     "output_type": "stream",
     "text": [
      "len: 4\n",
      "i: 0, remain_len: 4, c: }, num: 1, stack num: 1\n",
      "i: 1, remain_len: 2, c: }, num: 1, stack num: 0\n",
      "i: 2, remain_len: 2, c: }, num: 2, stack num: 1\n",
      "i: 3, remain_len: 0, c: }, num: 2, stack num: 0\n",
      "num: 2\n",
      "Pass\n"
     ]
    }
   ],
   "source": [
    "test_case_1 = [\"}}}}\", 2]\n",
    "test_function(test_case_1)"
   ]
  },
  {
   "cell_type": "code",
   "execution_count": 5,
   "metadata": {
    "graffitiCellId": "id_yt04y7c"
   },
   "outputs": [
    {
     "name": "stdout",
     "output_type": "stream",
     "text": [
      "len: 4\n",
      "i: 0, remain_len: 4, c: }, num: 1, stack num: 1\n",
      "i: 1, remain_len: 2, c: }, num: 1, stack num: 0\n",
      "i: 2, remain_len: 2, c: {, num: 1, stack num: 1\n",
      "i: 3, remain_len: 2, c: {, num: 2, stack num: 1\n",
      "num: 2\n",
      "Pass\n"
     ]
    }
   ],
   "source": [
    "test_case_2 = [\"}}{{\", 2]          \n",
    "test_function(test_case_2)"
   ]
  },
  {
   "cell_type": "code",
   "execution_count": 6,
   "metadata": {
    "graffitiCellId": "id_m8kpqt1"
   },
   "outputs": [
    {
     "name": "stdout",
     "output_type": "stream",
     "text": [
      "len: 36\n",
      "i: 0, remain_len: 36, c: {, num: 0, stack num: 1\n",
      "i: 1, remain_len: 36, c: {, num: 0, stack num: 2\n",
      "i: 2, remain_len: 36, c: {, num: 0, stack num: 3\n",
      "i: 3, remain_len: 36, c: {, num: 0, stack num: 4\n",
      "i: 4, remain_len: 36, c: {, num: 0, stack num: 5\n",
      "i: 5, remain_len: 36, c: {, num: 0, stack num: 6\n",
      "i: 6, remain_len: 36, c: {, num: 0, stack num: 7\n",
      "i: 7, remain_len: 36, c: {, num: 0, stack num: 8\n",
      "i: 8, remain_len: 36, c: {, num: 0, stack num: 9\n",
      "i: 9, remain_len: 36, c: {, num: 0, stack num: 10\n",
      "i: 10, remain_len: 36, c: {, num: 0, stack num: 11\n",
      "i: 11, remain_len: 36, c: {, num: 0, stack num: 12\n",
      "i: 12, remain_len: 36, c: {, num: 0, stack num: 13\n",
      "i: 13, remain_len: 36, c: {, num: 0, stack num: 14\n",
      "i: 14, remain_len: 36, c: {, num: 0, stack num: 15\n",
      "i: 15, remain_len: 36, c: {, num: 0, stack num: 16\n",
      "i: 16, remain_len: 36, c: {, num: 0, stack num: 17\n",
      "i: 17, remain_len: 36, c: {, num: 0, stack num: 18\n",
      "i: 18, remain_len: 36, c: {, num: 1, stack num: 18\n",
      "i: 19, remain_len: 36, c: {, num: 2, stack num: 18\n",
      "i: 20, remain_len: 36, c: {, num: 3, stack num: 18\n",
      "i: 21, remain_len: 36, c: {, num: 4, stack num: 18\n",
      "i: 22, remain_len: 36, c: {, num: 5, stack num: 18\n",
      "i: 23, remain_len: 36, c: {, num: 6, stack num: 18\n",
      "i: 24, remain_len: 36, c: {, num: 7, stack num: 18\n",
      "i: 25, remain_len: 36, c: {, num: 8, stack num: 18\n",
      "i: 26, remain_len: 36, c: {, num: 9, stack num: 18\n",
      "i: 27, remain_len: 36, c: {, num: 10, stack num: 18\n",
      "i: 28, remain_len: 36, c: {, num: 11, stack num: 18\n",
      "i: 29, remain_len: 36, c: {, num: 12, stack num: 18\n",
      "i: 30, remain_len: 36, c: {, num: 13, stack num: 18\n",
      "i: 31, remain_len: 34, c: }, num: 13, stack num: 17\n",
      "i: 32, remain_len: 32, c: }, num: 13, stack num: 16\n",
      "i: 33, remain_len: 30, c: }, num: 13, stack num: 15\n",
      "i: 34, remain_len: 28, c: }, num: 13, stack num: 14\n",
      "i: 35, remain_len: 26, c: }, num: 13, stack num: 13\n",
      "num: 13\n",
      "Pass\n"
     ]
    }
   ],
   "source": [
    "test_case_3 = [\"{{{{{{{{{{{{{{{{{{{{{{{{{{{{{{{}}}}}\", 13]\n",
    "test_function(test_case_3)"
   ]
  },
  {
   "cell_type": "code",
   "execution_count": 79,
   "metadata": {
    "graffitiCellId": "id_mp0csx6"
   },
   "outputs": [
    {
     "name": "stdout",
     "output_type": "stream",
     "text": [
      "len: 30\n",
      "i: 0, remain_len: 30, c: }, num: 1, stack num: 1\n",
      "i: 1, remain_len: 30, c: {, num: 1, stack num: 2\n",
      "i: 2, remain_len: 28, c: }, num: 1, stack num: 1\n",
      "i: 3, remain_len: 28, c: {, num: 1, stack num: 2\n",
      "i: 4, remain_len: 26, c: }, num: 1, stack num: 1\n",
      "i: 5, remain_len: 26, c: {, num: 1, stack num: 2\n",
      "i: 6, remain_len: 24, c: }, num: 1, stack num: 1\n",
      "i: 7, remain_len: 24, c: {, num: 1, stack num: 2\n",
      "i: 8, remain_len: 22, c: }, num: 1, stack num: 1\n",
      "i: 9, remain_len: 22, c: {, num: 1, stack num: 2\n",
      "i: 10, remain_len: 20, c: }, num: 1, stack num: 1\n",
      "i: 11, remain_len: 20, c: {, num: 1, stack num: 2\n",
      "i: 12, remain_len: 18, c: }, num: 1, stack num: 1\n",
      "i: 13, remain_len: 18, c: {, num: 1, stack num: 2\n",
      "i: 14, remain_len: 16, c: }, num: 1, stack num: 1\n",
      "i: 15, remain_len: 16, c: {, num: 1, stack num: 2\n",
      "i: 16, remain_len: 14, c: }, num: 1, stack num: 1\n",
      "i: 17, remain_len: 14, c: {, num: 1, stack num: 2\n",
      "i: 18, remain_len: 12, c: }, num: 1, stack num: 1\n",
      "i: 19, remain_len: 12, c: {, num: 1, stack num: 2\n",
      "i: 20, remain_len: 10, c: }, num: 1, stack num: 1\n",
      "i: 21, remain_len: 10, c: {, num: 1, stack num: 2\n",
      "i: 22, remain_len: 8, c: }, num: 1, stack num: 1\n",
      "i: 23, remain_len: 8, c: {, num: 1, stack num: 2\n",
      "i: 24, remain_len: 6, c: }, num: 1, stack num: 1\n",
      "i: 25, remain_len: 6, c: {, num: 1, stack num: 2\n",
      "i: 26, remain_len: 4, c: }, num: 1, stack num: 1\n",
      "i: 27, remain_len: 4, c: {, num: 1, stack num: 2\n",
      "i: 28, remain_len: 2, c: }, num: 1, stack num: 1\n",
      "i: 29, remain_len: 2, c: {, num: 2, stack num: 0\n",
      "num: 2\n",
      "Pass\n"
     ]
    }
   ],
   "source": [
    "test_case_4= [\"}{}{}{}{}{}{}{}{}{}{}{}{}{}{}{\", 2]\n",
    "test_function(test_case_4)"
   ]
  },
  {
   "cell_type": "code",
   "execution_count": 80,
   "metadata": {
    "graffitiCellId": "id_1732mey"
   },
   "outputs": [
    {
     "name": "stdout",
     "output_type": "stream",
     "text": [
      "len: 30\n",
      "i: 0, remain_len: 30, c: }, num: 1, stack num: 1\n",
      "i: 1, remain_len: 28, c: }, num: 1, stack num: 0\n",
      "i: 2, remain_len: 28, c: {, num: 1, stack num: 1\n",
      "i: 3, remain_len: 26, c: }, num: 1, stack num: 0\n",
      "i: 4, remain_len: 26, c: {, num: 1, stack num: 1\n",
      "i: 5, remain_len: 24, c: }, num: 1, stack num: 0\n",
      "i: 6, remain_len: 24, c: {, num: 1, stack num: 1\n",
      "i: 7, remain_len: 22, c: }, num: 1, stack num: 0\n",
      "i: 8, remain_len: 22, c: {, num: 1, stack num: 1\n",
      "i: 9, remain_len: 20, c: }, num: 1, stack num: 0\n",
      "i: 10, remain_len: 20, c: {, num: 1, stack num: 1\n",
      "i: 11, remain_len: 18, c: }, num: 1, stack num: 0\n",
      "i: 12, remain_len: 18, c: {, num: 1, stack num: 1\n",
      "i: 13, remain_len: 16, c: }, num: 1, stack num: 0\n",
      "i: 14, remain_len: 16, c: {, num: 1, stack num: 1\n",
      "i: 15, remain_len: 14, c: }, num: 1, stack num: 0\n",
      "i: 16, remain_len: 14, c: {, num: 1, stack num: 1\n",
      "i: 17, remain_len: 12, c: }, num: 1, stack num: 0\n",
      "i: 18, remain_len: 12, c: {, num: 1, stack num: 1\n",
      "i: 19, remain_len: 10, c: }, num: 1, stack num: 0\n",
      "i: 20, remain_len: 10, c: {, num: 1, stack num: 1\n",
      "i: 21, remain_len: 8, c: }, num: 1, stack num: 0\n",
      "i: 22, remain_len: 8, c: {, num: 1, stack num: 1\n",
      "i: 23, remain_len: 6, c: }, num: 1, stack num: 0\n",
      "i: 24, remain_len: 6, c: {, num: 1, stack num: 1\n",
      "i: 25, remain_len: 4, c: }, num: 1, stack num: 0\n",
      "i: 26, remain_len: 4, c: {, num: 1, stack num: 1\n",
      "i: 27, remain_len: 2, c: }, num: 1, stack num: 0\n",
      "i: 28, remain_len: 2, c: {, num: 1, stack num: 1\n",
      "i: 29, remain_len: 0, c: }, num: 1, stack num: 0\n",
      "num: 1\n",
      "Pass\n"
     ]
    }
   ],
   "source": [
    "test_case_5 = [\"}}{}{}{}{}{}{}{}{}{}{}{}{}{}{}\", 1]\n",
    "\n",
    "test_function(test_case_5)"
   ]
  },
  {
   "cell_type": "code",
   "execution_count": null,
   "metadata": {
    "graffitiCellId": "id_mclvpey"
   },
   "outputs": [],
   "source": [
    "def minimum_bracket_reversals(input_string):\n",
    "    if len(input_string) % 2 == 1:\n",
    "        return -1\n",
    "\n",
    "    stack = Stack()\n",
    "    count = 0\n",
    "    for bracket in input_string:\n",
    "        if stack.is_empty():\n",
    "            stack.push(bracket)\n",
    "        else:\n",
    "            top = stack.top()\n",
    "            if top != bracket:\n",
    "                if top == '{':\n",
    "                    stack.pop()\n",
    "                    continue\n",
    "            stack.push(bracket)\n",
    "\n",
    "    ls = list()\n",
    "    while not stack.is_empty():\n",
    "        first = stack.pop()\n",
    "        second = stack.pop()\n",
    "        ls.append(first)\n",
    "        ls.append(second)\n",
    "        if first == '}' and second == '}':\n",
    "            count += 1\n",
    "        elif first == '{' and second == '}':\n",
    "            count += 2\n",
    "        elif first == '{' and second == '{':\n",
    "            count += 1\n",
    "    return count\n"
   ]
  },
  {
   "cell_type": "markdown",
   "metadata": {
    "graffitiCellId": "id_nswj6h2"
   },
   "source": [
    "<span class=\"graffiti-highlight graffiti-id_nswj6h2-id_mclvpey\"><i></i><button>Show Solution</button></span>"
   ]
  }
 ],
 "metadata": {
  "graffiti": {
   "firstAuthorId": "10694620118",
   "id": "id_m05og16",
   "language": "EN"
  },
  "kernelspec": {
   "display_name": "Python 3",
   "language": "python",
   "name": "python3"
  },
  "language_info": {
   "codemirror_mode": {
    "name": "ipython",
    "version": 3
   },
   "file_extension": ".py",
   "mimetype": "text/x-python",
   "name": "python",
   "nbconvert_exporter": "python",
   "pygments_lexer": "ipython3",
   "version": "3.5.2"
  }
 },
 "nbformat": 4,
 "nbformat_minor": 2
}
