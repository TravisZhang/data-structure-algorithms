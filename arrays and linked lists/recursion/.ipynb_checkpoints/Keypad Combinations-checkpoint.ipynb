{
 "cells": [
  {
   "cell_type": "markdown",
   "metadata": {
    "graffitiCellId": "id_twe5ety"
   },
   "source": [
    "## Keypad Combinations\n",
    "\n",
    "A keypad on a cellphone has alphabets for all numbers between 2 and 9. \n",
    "\n",
    "You can make different combinations of alphabets by pressing the numbers.\n",
    "\n",
    "For example, if you press 23, the following combinations are possible:\n",
    "\n",
    "`ad, ae, af, bd, be, bf, cd, ce, cf`\n",
    "\n",
    "Note that because 2 is pressed before 3, the first letter is always an alphabet on the number 2.\n",
    "Likewise, if the user types 32, the order would be\n",
    "\n",
    "`da, db, dc, ea, eb, ec, fa, fb, fc`\n",
    "\n",
    "\n",
    "Given an integer `num`, find out all the possible strings that can be made using digits of input `num`. \n",
    "Return these strings in a list. The order of strings in the list does not matter. However, as stated earlier, the order of letters in a particular string matters."
   ]
  },
  {
   "cell_type": "code",
   "execution_count": 16,
   "metadata": {
    "graffitiCellId": "id_ffyjq5w"
   },
   "outputs": [],
   "source": [
    "import copy\n",
    "\n",
    "def get_characters(num):\n",
    "    if num == 2:\n",
    "        return \"abc\"\n",
    "    elif num == 3:\n",
    "        return \"def\"\n",
    "    elif num == 4:\n",
    "        return \"ghi\"\n",
    "    elif num == 5:\n",
    "        return \"jkl\"\n",
    "    elif num == 6:\n",
    "        return \"mno\"\n",
    "    elif num == 7:\n",
    "        return \"pqrs\"\n",
    "    elif num == 8:\n",
    "        return \"tuv\"\n",
    "    elif num == 9:\n",
    "        return \"wxyz\"\n",
    "    else:\n",
    "        return \"\"\n",
    "\n",
    "def iter_fun(l, flag_list, l_o, level, output):\n",
    "#     if len(l_o) >= len(l):\n",
    "    if level >= len(l):\n",
    "        output.append(l_o)\n",
    "        print(\"l_o: \", l_o, \"output: \", output)\n",
    "#         l_o = []\n",
    "        return \n",
    "    for i in range(len(l[level])):\n",
    "        print(\"i: \", i,\" level: \", level, \"flag_list: \", flag_list, \" l_o: \", l_o)\n",
    "        if flag_list[level][i] == 0:\n",
    "            l_o[level] = copy.deepcopy(l[level][i])\n",
    "#             print(l_o)\n",
    "#             l_o.append(l[i])\n",
    "            flag_list[level][i] = 1\n",
    "            iter_fun(l, flag_list, copy.deepcopy(l_o), level + 1, output)\n",
    "            flag_list[level][i] = 0\n",
    "#             l_o = []\n",
    "    return\n",
    "    \n",
    "def list_to_str(l):\n",
    "    str0 = \"\"\n",
    "    for i in range(len(l)):\n",
    "        str0 += l[i]\n",
    "    return str0\n",
    "\n",
    "def keypad(num):\n",
    "    \n",
    "    # TODO: Write your keypad solution here!\n",
    "    l = []\n",
    "    while num != 0:\n",
    "        l.insert(0, num % 10)\n",
    "        num = int(num / 10)\n",
    "    print(\"l: \", l)\n",
    "    real_input = []\n",
    "    flag_list = []\n",
    "    for i in range(len(l)):\n",
    "        real_input.append(get_characters(l[i]))\n",
    "        flag_list.append([0] * len(real_input[i]))\n",
    "    print(\"real_input: \", real_input, \"flag_list: \", flag_list)\n",
    "#     print(len(real_input))\n",
    "    \n",
    "    output = []\n",
    "    l_o = [0] * len(real_input)\n",
    "    iter_fun(real_input, flag_list, l_o, 0, output)\n",
    "    real_output = []\n",
    "    for i in range(len(output)):\n",
    "        real_output.append(list_to_str(output[i]))\n",
    "    print(\"real_output: \", real_output)\n",
    "    return real_output\n",
    "    pass\n"
   ]
  },
  {
   "cell_type": "code",
   "execution_count": 2,
   "metadata": {
    "graffitiCellId": "id_l66zrar"
   },
   "outputs": [],
   "source": [
    "def test_keypad(input, expected_output):\n",
    "    if sorted(keypad(input)) == expected_output:\n",
    "        print(\"Yay. We got it right.\")\n",
    "    else:\n",
    "        print(\"Oops! That was incorrect.\")"
   ]
  },
  {
   "cell_type": "code",
   "execution_count": 17,
   "metadata": {
    "graffitiCellId": "id_vnyax73"
   },
   "outputs": [
    {
     "name": "stdout",
     "output_type": "stream",
     "text": [
      "l:  []\n",
      "real_input:  [] flag_list:  []\n",
      "l_o:  [] output:  [[]]\n",
      "real_output:  ['']\n",
      "Yay. We got it right.\n"
     ]
    }
   ],
   "source": [
    "# Base case: list with empty string\n",
    "input = 0\n",
    "expected_output = [\"\"]\n",
    "test_keypad(input, expected_output)"
   ]
  },
  {
   "cell_type": "code",
   "execution_count": 18,
   "metadata": {
    "graffitiCellId": "id_458su6i"
   },
   "outputs": [
    {
     "name": "stdout",
     "output_type": "stream",
     "text": [
      "l:  [2, 3]\n",
      "real_input:  ['abc', 'def'] flag_list:  [[0, 0, 0], [0, 0, 0]]\n",
      "i:  0  level:  0 flag_list:  [[0, 0, 0], [0, 0, 0]]  l_o:  [0, 0]\n",
      "i:  0  level:  1 flag_list:  [[1, 0, 0], [0, 0, 0]]  l_o:  ['a', 0]\n",
      "l_o:  ['a', 'd'] output:  [['a', 'd']]\n",
      "i:  1  level:  1 flag_list:  [[1, 0, 0], [0, 0, 0]]  l_o:  ['a', 'd']\n",
      "l_o:  ['a', 'e'] output:  [['a', 'd'], ['a', 'e']]\n",
      "i:  2  level:  1 flag_list:  [[1, 0, 0], [0, 0, 0]]  l_o:  ['a', 'e']\n",
      "l_o:  ['a', 'f'] output:  [['a', 'd'], ['a', 'e'], ['a', 'f']]\n",
      "i:  1  level:  0 flag_list:  [[0, 0, 0], [0, 0, 0]]  l_o:  ['a', 0]\n",
      "i:  0  level:  1 flag_list:  [[0, 1, 0], [0, 0, 0]]  l_o:  ['b', 0]\n",
      "l_o:  ['b', 'd'] output:  [['a', 'd'], ['a', 'e'], ['a', 'f'], ['b', 'd']]\n",
      "i:  1  level:  1 flag_list:  [[0, 1, 0], [0, 0, 0]]  l_o:  ['b', 'd']\n",
      "l_o:  ['b', 'e'] output:  [['a', 'd'], ['a', 'e'], ['a', 'f'], ['b', 'd'], ['b', 'e']]\n",
      "i:  2  level:  1 flag_list:  [[0, 1, 0], [0, 0, 0]]  l_o:  ['b', 'e']\n",
      "l_o:  ['b', 'f'] output:  [['a', 'd'], ['a', 'e'], ['a', 'f'], ['b', 'd'], ['b', 'e'], ['b', 'f']]\n",
      "i:  2  level:  0 flag_list:  [[0, 0, 0], [0, 0, 0]]  l_o:  ['b', 0]\n",
      "i:  0  level:  1 flag_list:  [[0, 0, 1], [0, 0, 0]]  l_o:  ['c', 0]\n",
      "l_o:  ['c', 'd'] output:  [['a', 'd'], ['a', 'e'], ['a', 'f'], ['b', 'd'], ['b', 'e'], ['b', 'f'], ['c', 'd']]\n",
      "i:  1  level:  1 flag_list:  [[0, 0, 1], [0, 0, 0]]  l_o:  ['c', 'd']\n",
      "l_o:  ['c', 'e'] output:  [['a', 'd'], ['a', 'e'], ['a', 'f'], ['b', 'd'], ['b', 'e'], ['b', 'f'], ['c', 'd'], ['c', 'e']]\n",
      "i:  2  level:  1 flag_list:  [[0, 0, 1], [0, 0, 0]]  l_o:  ['c', 'e']\n",
      "l_o:  ['c', 'f'] output:  [['a', 'd'], ['a', 'e'], ['a', 'f'], ['b', 'd'], ['b', 'e'], ['b', 'f'], ['c', 'd'], ['c', 'e'], ['c', 'f']]\n",
      "real_output:  ['ad', 'ae', 'af', 'bd', 'be', 'bf', 'cd', 'ce', 'cf']\n",
      "Yay. We got it right.\n"
     ]
    }
   ],
   "source": [
    "# Example case\n",
    "input = 23\n",
    "expected_output = sorted([\"ad\", \"ae\", \"af\", \"bd\", \"be\", \"bf\", \"cd\", \"ce\", \"cf\"])\n",
    "test_keypad(input, expected_output)"
   ]
  },
  {
   "cell_type": "code",
   "execution_count": 19,
   "metadata": {
    "graffitiCellId": "id_j04lazf"
   },
   "outputs": [
    {
     "name": "stdout",
     "output_type": "stream",
     "text": [
      "l:  [3, 2]\n",
      "real_input:  ['def', 'abc'] flag_list:  [[0, 0, 0], [0, 0, 0]]\n",
      "i:  0  level:  0 flag_list:  [[0, 0, 0], [0, 0, 0]]  l_o:  [0, 0]\n",
      "i:  0  level:  1 flag_list:  [[1, 0, 0], [0, 0, 0]]  l_o:  ['d', 0]\n",
      "l_o:  ['d', 'a'] output:  [['d', 'a']]\n",
      "i:  1  level:  1 flag_list:  [[1, 0, 0], [0, 0, 0]]  l_o:  ['d', 'a']\n",
      "l_o:  ['d', 'b'] output:  [['d', 'a'], ['d', 'b']]\n",
      "i:  2  level:  1 flag_list:  [[1, 0, 0], [0, 0, 0]]  l_o:  ['d', 'b']\n",
      "l_o:  ['d', 'c'] output:  [['d', 'a'], ['d', 'b'], ['d', 'c']]\n",
      "i:  1  level:  0 flag_list:  [[0, 0, 0], [0, 0, 0]]  l_o:  ['d', 0]\n",
      "i:  0  level:  1 flag_list:  [[0, 1, 0], [0, 0, 0]]  l_o:  ['e', 0]\n",
      "l_o:  ['e', 'a'] output:  [['d', 'a'], ['d', 'b'], ['d', 'c'], ['e', 'a']]\n",
      "i:  1  level:  1 flag_list:  [[0, 1, 0], [0, 0, 0]]  l_o:  ['e', 'a']\n",
      "l_o:  ['e', 'b'] output:  [['d', 'a'], ['d', 'b'], ['d', 'c'], ['e', 'a'], ['e', 'b']]\n",
      "i:  2  level:  1 flag_list:  [[0, 1, 0], [0, 0, 0]]  l_o:  ['e', 'b']\n",
      "l_o:  ['e', 'c'] output:  [['d', 'a'], ['d', 'b'], ['d', 'c'], ['e', 'a'], ['e', 'b'], ['e', 'c']]\n",
      "i:  2  level:  0 flag_list:  [[0, 0, 0], [0, 0, 0]]  l_o:  ['e', 0]\n",
      "i:  0  level:  1 flag_list:  [[0, 0, 1], [0, 0, 0]]  l_o:  ['f', 0]\n",
      "l_o:  ['f', 'a'] output:  [['d', 'a'], ['d', 'b'], ['d', 'c'], ['e', 'a'], ['e', 'b'], ['e', 'c'], ['f', 'a']]\n",
      "i:  1  level:  1 flag_list:  [[0, 0, 1], [0, 0, 0]]  l_o:  ['f', 'a']\n",
      "l_o:  ['f', 'b'] output:  [['d', 'a'], ['d', 'b'], ['d', 'c'], ['e', 'a'], ['e', 'b'], ['e', 'c'], ['f', 'a'], ['f', 'b']]\n",
      "i:  2  level:  1 flag_list:  [[0, 0, 1], [0, 0, 0]]  l_o:  ['f', 'b']\n",
      "l_o:  ['f', 'c'] output:  [['d', 'a'], ['d', 'b'], ['d', 'c'], ['e', 'a'], ['e', 'b'], ['e', 'c'], ['f', 'a'], ['f', 'b'], ['f', 'c']]\n",
      "real_output:  ['da', 'db', 'dc', 'ea', 'eb', 'ec', 'fa', 'fb', 'fc']\n",
      "Yay. We got it right.\n"
     ]
    }
   ],
   "source": [
    "# Example case\n",
    "input = 32\n",
    "expected_output = sorted([\"da\", \"db\", \"dc\", \"ea\", \"eb\", \"ec\", \"fa\", \"fb\", \"fc\"])\n",
    "test_keypad(input, expected_output)"
   ]
  },
  {
   "cell_type": "code",
   "execution_count": 22,
   "metadata": {
    "graffitiCellId": "id_4ziwk7w"
   },
   "outputs": [
    {
     "name": "stdout",
     "output_type": "stream",
     "text": [
      "l:  [8]\n",
      "real_input:  ['tuv'] flag_list:  [[0, 0, 0]]\n",
      "i:  0  level:  0 flag_list:  [[0, 0, 0]]  l_o:  [0]\n",
      "l_o:  ['t'] output:  [['t']]\n",
      "i:  1  level:  0 flag_list:  [[0, 0, 0]]  l_o:  ['t']\n",
      "l_o:  ['u'] output:  [['t'], ['u']]\n",
      "i:  2  level:  0 flag_list:  [[0, 0, 0]]  l_o:  ['u']\n",
      "l_o:  ['v'] output:  [['t'], ['u'], ['v']]\n",
      "real_output:  ['t', 'u', 'v']\n",
      "Yay. We got it right.\n"
     ]
    }
   ],
   "source": [
    "# Example case\n",
    "input = 8\n",
    "expected_output = sorted([\"t\", \"u\", \"v\"])\n",
    "test_keypad(input, expected_output)"
   ]
  },
  {
   "cell_type": "code",
   "execution_count": null,
   "metadata": {
    "graffitiCellId": "id_haj1ksk"
   },
   "outputs": [],
   "source": [
    "def keypad(num):\n",
    "    if num <= 1:\n",
    "        return [\"\"]\n",
    "    elif 1 < num <= 9:\n",
    "        return list(get_characters(num))\n",
    "\n",
    "    last_digit = num % 10\n",
    "    small_output = keypad(num//10)\n",
    "    keypad_string = get_characters(last_digit)\n",
    "    output = list()\n",
    "    for character in keypad_string:\n",
    "        for item in small_output:\n",
    "            new_item = item + character\n",
    "            output.append(new_item)\n",
    "    return output\n"
   ]
  },
  {
   "cell_type": "code",
   "execution_count": 23,
   "metadata": {
    "graffitiCellId": "id_u7fe0h1"
   },
   "outputs": [
    {
     "name": "stdout",
     "output_type": "stream",
     "text": [
      "l:  [3, 5, 4]\n",
      "real_input:  ['def', 'jkl', 'ghi'] flag_list:  [[0, 0, 0], [0, 0, 0], [0, 0, 0]]\n",
      "i:  0  level:  0 flag_list:  [[0, 0, 0], [0, 0, 0], [0, 0, 0]]  l_o:  [0, 0, 0]\n",
      "i:  0  level:  1 flag_list:  [[1, 0, 0], [0, 0, 0], [0, 0, 0]]  l_o:  ['d', 0, 0]\n",
      "i:  0  level:  2 flag_list:  [[1, 0, 0], [1, 0, 0], [0, 0, 0]]  l_o:  ['d', 'j', 0]\n",
      "l_o:  ['d', 'j', 'g'] output:  [['d', 'j', 'g']]\n",
      "i:  1  level:  2 flag_list:  [[1, 0, 0], [1, 0, 0], [0, 0, 0]]  l_o:  ['d', 'j', 'g']\n",
      "l_o:  ['d', 'j', 'h'] output:  [['d', 'j', 'g'], ['d', 'j', 'h']]\n",
      "i:  2  level:  2 flag_list:  [[1, 0, 0], [1, 0, 0], [0, 0, 0]]  l_o:  ['d', 'j', 'h']\n",
      "l_o:  ['d', 'j', 'i'] output:  [['d', 'j', 'g'], ['d', 'j', 'h'], ['d', 'j', 'i']]\n",
      "i:  1  level:  1 flag_list:  [[1, 0, 0], [0, 0, 0], [0, 0, 0]]  l_o:  ['d', 'j', 0]\n",
      "i:  0  level:  2 flag_list:  [[1, 0, 0], [0, 1, 0], [0, 0, 0]]  l_o:  ['d', 'k', 0]\n",
      "l_o:  ['d', 'k', 'g'] output:  [['d', 'j', 'g'], ['d', 'j', 'h'], ['d', 'j', 'i'], ['d', 'k', 'g']]\n",
      "i:  1  level:  2 flag_list:  [[1, 0, 0], [0, 1, 0], [0, 0, 0]]  l_o:  ['d', 'k', 'g']\n",
      "l_o:  ['d', 'k', 'h'] output:  [['d', 'j', 'g'], ['d', 'j', 'h'], ['d', 'j', 'i'], ['d', 'k', 'g'], ['d', 'k', 'h']]\n",
      "i:  2  level:  2 flag_list:  [[1, 0, 0], [0, 1, 0], [0, 0, 0]]  l_o:  ['d', 'k', 'h']\n",
      "l_o:  ['d', 'k', 'i'] output:  [['d', 'j', 'g'], ['d', 'j', 'h'], ['d', 'j', 'i'], ['d', 'k', 'g'], ['d', 'k', 'h'], ['d', 'k', 'i']]\n",
      "i:  2  level:  1 flag_list:  [[1, 0, 0], [0, 0, 0], [0, 0, 0]]  l_o:  ['d', 'k', 0]\n",
      "i:  0  level:  2 flag_list:  [[1, 0, 0], [0, 0, 1], [0, 0, 0]]  l_o:  ['d', 'l', 0]\n",
      "l_o:  ['d', 'l', 'g'] output:  [['d', 'j', 'g'], ['d', 'j', 'h'], ['d', 'j', 'i'], ['d', 'k', 'g'], ['d', 'k', 'h'], ['d', 'k', 'i'], ['d', 'l', 'g']]\n",
      "i:  1  level:  2 flag_list:  [[1, 0, 0], [0, 0, 1], [0, 0, 0]]  l_o:  ['d', 'l', 'g']\n",
      "l_o:  ['d', 'l', 'h'] output:  [['d', 'j', 'g'], ['d', 'j', 'h'], ['d', 'j', 'i'], ['d', 'k', 'g'], ['d', 'k', 'h'], ['d', 'k', 'i'], ['d', 'l', 'g'], ['d', 'l', 'h']]\n",
      "i:  2  level:  2 flag_list:  [[1, 0, 0], [0, 0, 1], [0, 0, 0]]  l_o:  ['d', 'l', 'h']\n",
      "l_o:  ['d', 'l', 'i'] output:  [['d', 'j', 'g'], ['d', 'j', 'h'], ['d', 'j', 'i'], ['d', 'k', 'g'], ['d', 'k', 'h'], ['d', 'k', 'i'], ['d', 'l', 'g'], ['d', 'l', 'h'], ['d', 'l', 'i']]\n",
      "i:  1  level:  0 flag_list:  [[0, 0, 0], [0, 0, 0], [0, 0, 0]]  l_o:  ['d', 0, 0]\n",
      "i:  0  level:  1 flag_list:  [[0, 1, 0], [0, 0, 0], [0, 0, 0]]  l_o:  ['e', 0, 0]\n",
      "i:  0  level:  2 flag_list:  [[0, 1, 0], [1, 0, 0], [0, 0, 0]]  l_o:  ['e', 'j', 0]\n",
      "l_o:  ['e', 'j', 'g'] output:  [['d', 'j', 'g'], ['d', 'j', 'h'], ['d', 'j', 'i'], ['d', 'k', 'g'], ['d', 'k', 'h'], ['d', 'k', 'i'], ['d', 'l', 'g'], ['d', 'l', 'h'], ['d', 'l', 'i'], ['e', 'j', 'g']]\n",
      "i:  1  level:  2 flag_list:  [[0, 1, 0], [1, 0, 0], [0, 0, 0]]  l_o:  ['e', 'j', 'g']\n",
      "l_o:  ['e', 'j', 'h'] output:  [['d', 'j', 'g'], ['d', 'j', 'h'], ['d', 'j', 'i'], ['d', 'k', 'g'], ['d', 'k', 'h'], ['d', 'k', 'i'], ['d', 'l', 'g'], ['d', 'l', 'h'], ['d', 'l', 'i'], ['e', 'j', 'g'], ['e', 'j', 'h']]\n",
      "i:  2  level:  2 flag_list:  [[0, 1, 0], [1, 0, 0], [0, 0, 0]]  l_o:  ['e', 'j', 'h']\n",
      "l_o:  ['e', 'j', 'i'] output:  [['d', 'j', 'g'], ['d', 'j', 'h'], ['d', 'j', 'i'], ['d', 'k', 'g'], ['d', 'k', 'h'], ['d', 'k', 'i'], ['d', 'l', 'g'], ['d', 'l', 'h'], ['d', 'l', 'i'], ['e', 'j', 'g'], ['e', 'j', 'h'], ['e', 'j', 'i']]\n",
      "i:  1  level:  1 flag_list:  [[0, 1, 0], [0, 0, 0], [0, 0, 0]]  l_o:  ['e', 'j', 0]\n",
      "i:  0  level:  2 flag_list:  [[0, 1, 0], [0, 1, 0], [0, 0, 0]]  l_o:  ['e', 'k', 0]\n",
      "l_o:  ['e', 'k', 'g'] output:  [['d', 'j', 'g'], ['d', 'j', 'h'], ['d', 'j', 'i'], ['d', 'k', 'g'], ['d', 'k', 'h'], ['d', 'k', 'i'], ['d', 'l', 'g'], ['d', 'l', 'h'], ['d', 'l', 'i'], ['e', 'j', 'g'], ['e', 'j', 'h'], ['e', 'j', 'i'], ['e', 'k', 'g']]\n",
      "i:  1  level:  2 flag_list:  [[0, 1, 0], [0, 1, 0], [0, 0, 0]]  l_o:  ['e', 'k', 'g']\n",
      "l_o:  ['e', 'k', 'h'] output:  [['d', 'j', 'g'], ['d', 'j', 'h'], ['d', 'j', 'i'], ['d', 'k', 'g'], ['d', 'k', 'h'], ['d', 'k', 'i'], ['d', 'l', 'g'], ['d', 'l', 'h'], ['d', 'l', 'i'], ['e', 'j', 'g'], ['e', 'j', 'h'], ['e', 'j', 'i'], ['e', 'k', 'g'], ['e', 'k', 'h']]\n",
      "i:  2  level:  2 flag_list:  [[0, 1, 0], [0, 1, 0], [0, 0, 0]]  l_o:  ['e', 'k', 'h']\n",
      "l_o:  ['e', 'k', 'i'] output:  [['d', 'j', 'g'], ['d', 'j', 'h'], ['d', 'j', 'i'], ['d', 'k', 'g'], ['d', 'k', 'h'], ['d', 'k', 'i'], ['d', 'l', 'g'], ['d', 'l', 'h'], ['d', 'l', 'i'], ['e', 'j', 'g'], ['e', 'j', 'h'], ['e', 'j', 'i'], ['e', 'k', 'g'], ['e', 'k', 'h'], ['e', 'k', 'i']]\n",
      "i:  2  level:  1 flag_list:  [[0, 1, 0], [0, 0, 0], [0, 0, 0]]  l_o:  ['e', 'k', 0]\n",
      "i:  0  level:  2 flag_list:  [[0, 1, 0], [0, 0, 1], [0, 0, 0]]  l_o:  ['e', 'l', 0]\n",
      "l_o:  ['e', 'l', 'g'] output:  [['d', 'j', 'g'], ['d', 'j', 'h'], ['d', 'j', 'i'], ['d', 'k', 'g'], ['d', 'k', 'h'], ['d', 'k', 'i'], ['d', 'l', 'g'], ['d', 'l', 'h'], ['d', 'l', 'i'], ['e', 'j', 'g'], ['e', 'j', 'h'], ['e', 'j', 'i'], ['e', 'k', 'g'], ['e', 'k', 'h'], ['e', 'k', 'i'], ['e', 'l', 'g']]\n",
      "i:  1  level:  2 flag_list:  [[0, 1, 0], [0, 0, 1], [0, 0, 0]]  l_o:  ['e', 'l', 'g']\n",
      "l_o:  ['e', 'l', 'h'] output:  [['d', 'j', 'g'], ['d', 'j', 'h'], ['d', 'j', 'i'], ['d', 'k', 'g'], ['d', 'k', 'h'], ['d', 'k', 'i'], ['d', 'l', 'g'], ['d', 'l', 'h'], ['d', 'l', 'i'], ['e', 'j', 'g'], ['e', 'j', 'h'], ['e', 'j', 'i'], ['e', 'k', 'g'], ['e', 'k', 'h'], ['e', 'k', 'i'], ['e', 'l', 'g'], ['e', 'l', 'h']]\n",
      "i:  2  level:  2 flag_list:  [[0, 1, 0], [0, 0, 1], [0, 0, 0]]  l_o:  ['e', 'l', 'h']\n",
      "l_o:  ['e', 'l', 'i'] output:  [['d', 'j', 'g'], ['d', 'j', 'h'], ['d', 'j', 'i'], ['d', 'k', 'g'], ['d', 'k', 'h'], ['d', 'k', 'i'], ['d', 'l', 'g'], ['d', 'l', 'h'], ['d', 'l', 'i'], ['e', 'j', 'g'], ['e', 'j', 'h'], ['e', 'j', 'i'], ['e', 'k', 'g'], ['e', 'k', 'h'], ['e', 'k', 'i'], ['e', 'l', 'g'], ['e', 'l', 'h'], ['e', 'l', 'i']]\n",
      "i:  2  level:  0 flag_list:  [[0, 0, 0], [0, 0, 0], [0, 0, 0]]  l_o:  ['e', 0, 0]\n",
      "i:  0  level:  1 flag_list:  [[0, 0, 1], [0, 0, 0], [0, 0, 0]]  l_o:  ['f', 0, 0]\n",
      "i:  0  level:  2 flag_list:  [[0, 0, 1], [1, 0, 0], [0, 0, 0]]  l_o:  ['f', 'j', 0]\n",
      "l_o:  ['f', 'j', 'g'] output:  [['d', 'j', 'g'], ['d', 'j', 'h'], ['d', 'j', 'i'], ['d', 'k', 'g'], ['d', 'k', 'h'], ['d', 'k', 'i'], ['d', 'l', 'g'], ['d', 'l', 'h'], ['d', 'l', 'i'], ['e', 'j', 'g'], ['e', 'j', 'h'], ['e', 'j', 'i'], ['e', 'k', 'g'], ['e', 'k', 'h'], ['e', 'k', 'i'], ['e', 'l', 'g'], ['e', 'l', 'h'], ['e', 'l', 'i'], ['f', 'j', 'g']]\n",
      "i:  1  level:  2 flag_list:  [[0, 0, 1], [1, 0, 0], [0, 0, 0]]  l_o:  ['f', 'j', 'g']\n",
      "l_o:  ['f', 'j', 'h'] output:  [['d', 'j', 'g'], ['d', 'j', 'h'], ['d', 'j', 'i'], ['d', 'k', 'g'], ['d', 'k', 'h'], ['d', 'k', 'i'], ['d', 'l', 'g'], ['d', 'l', 'h'], ['d', 'l', 'i'], ['e', 'j', 'g'], ['e', 'j', 'h'], ['e', 'j', 'i'], ['e', 'k', 'g'], ['e', 'k', 'h'], ['e', 'k', 'i'], ['e', 'l', 'g'], ['e', 'l', 'h'], ['e', 'l', 'i'], ['f', 'j', 'g'], ['f', 'j', 'h']]\n",
      "i:  2  level:  2 flag_list:  [[0, 0, 1], [1, 0, 0], [0, 0, 0]]  l_o:  ['f', 'j', 'h']\n",
      "l_o:  ['f', 'j', 'i'] output:  [['d', 'j', 'g'], ['d', 'j', 'h'], ['d', 'j', 'i'], ['d', 'k', 'g'], ['d', 'k', 'h'], ['d', 'k', 'i'], ['d', 'l', 'g'], ['d', 'l', 'h'], ['d', 'l', 'i'], ['e', 'j', 'g'], ['e', 'j', 'h'], ['e', 'j', 'i'], ['e', 'k', 'g'], ['e', 'k', 'h'], ['e', 'k', 'i'], ['e', 'l', 'g'], ['e', 'l', 'h'], ['e', 'l', 'i'], ['f', 'j', 'g'], ['f', 'j', 'h'], ['f', 'j', 'i']]\n",
      "i:  1  level:  1 flag_list:  [[0, 0, 1], [0, 0, 0], [0, 0, 0]]  l_o:  ['f', 'j', 0]\n",
      "i:  0  level:  2 flag_list:  [[0, 0, 1], [0, 1, 0], [0, 0, 0]]  l_o:  ['f', 'k', 0]\n",
      "l_o:  ['f', 'k', 'g'] output:  [['d', 'j', 'g'], ['d', 'j', 'h'], ['d', 'j', 'i'], ['d', 'k', 'g'], ['d', 'k', 'h'], ['d', 'k', 'i'], ['d', 'l', 'g'], ['d', 'l', 'h'], ['d', 'l', 'i'], ['e', 'j', 'g'], ['e', 'j', 'h'], ['e', 'j', 'i'], ['e', 'k', 'g'], ['e', 'k', 'h'], ['e', 'k', 'i'], ['e', 'l', 'g'], ['e', 'l', 'h'], ['e', 'l', 'i'], ['f', 'j', 'g'], ['f', 'j', 'h'], ['f', 'j', 'i'], ['f', 'k', 'g']]\n",
      "i:  1  level:  2 flag_list:  [[0, 0, 1], [0, 1, 0], [0, 0, 0]]  l_o:  ['f', 'k', 'g']\n",
      "l_o:  ['f', 'k', 'h'] output:  [['d', 'j', 'g'], ['d', 'j', 'h'], ['d', 'j', 'i'], ['d', 'k', 'g'], ['d', 'k', 'h'], ['d', 'k', 'i'], ['d', 'l', 'g'], ['d', 'l', 'h'], ['d', 'l', 'i'], ['e', 'j', 'g'], ['e', 'j', 'h'], ['e', 'j', 'i'], ['e', 'k', 'g'], ['e', 'k', 'h'], ['e', 'k', 'i'], ['e', 'l', 'g'], ['e', 'l', 'h'], ['e', 'l', 'i'], ['f', 'j', 'g'], ['f', 'j', 'h'], ['f', 'j', 'i'], ['f', 'k', 'g'], ['f', 'k', 'h']]\n",
      "i:  2  level:  2 flag_list:  [[0, 0, 1], [0, 1, 0], [0, 0, 0]]  l_o:  ['f', 'k', 'h']\n",
      "l_o:  ['f', 'k', 'i'] output:  [['d', 'j', 'g'], ['d', 'j', 'h'], ['d', 'j', 'i'], ['d', 'k', 'g'], ['d', 'k', 'h'], ['d', 'k', 'i'], ['d', 'l', 'g'], ['d', 'l', 'h'], ['d', 'l', 'i'], ['e', 'j', 'g'], ['e', 'j', 'h'], ['e', 'j', 'i'], ['e', 'k', 'g'], ['e', 'k', 'h'], ['e', 'k', 'i'], ['e', 'l', 'g'], ['e', 'l', 'h'], ['e', 'l', 'i'], ['f', 'j', 'g'], ['f', 'j', 'h'], ['f', 'j', 'i'], ['f', 'k', 'g'], ['f', 'k', 'h'], ['f', 'k', 'i']]\n",
      "i:  2  level:  1 flag_list:  [[0, 0, 1], [0, 0, 0], [0, 0, 0]]  l_o:  ['f', 'k', 0]\n",
      "i:  0  level:  2 flag_list:  [[0, 0, 1], [0, 0, 1], [0, 0, 0]]  l_o:  ['f', 'l', 0]\n",
      "l_o:  ['f', 'l', 'g'] output:  [['d', 'j', 'g'], ['d', 'j', 'h'], ['d', 'j', 'i'], ['d', 'k', 'g'], ['d', 'k', 'h'], ['d', 'k', 'i'], ['d', 'l', 'g'], ['d', 'l', 'h'], ['d', 'l', 'i'], ['e', 'j', 'g'], ['e', 'j', 'h'], ['e', 'j', 'i'], ['e', 'k', 'g'], ['e', 'k', 'h'], ['e', 'k', 'i'], ['e', 'l', 'g'], ['e', 'l', 'h'], ['e', 'l', 'i'], ['f', 'j', 'g'], ['f', 'j', 'h'], ['f', 'j', 'i'], ['f', 'k', 'g'], ['f', 'k', 'h'], ['f', 'k', 'i'], ['f', 'l', 'g']]\n",
      "i:  1  level:  2 flag_list:  [[0, 0, 1], [0, 0, 1], [0, 0, 0]]  l_o:  ['f', 'l', 'g']\n",
      "l_o:  ['f', 'l', 'h'] output:  [['d', 'j', 'g'], ['d', 'j', 'h'], ['d', 'j', 'i'], ['d', 'k', 'g'], ['d', 'k', 'h'], ['d', 'k', 'i'], ['d', 'l', 'g'], ['d', 'l', 'h'], ['d', 'l', 'i'], ['e', 'j', 'g'], ['e', 'j', 'h'], ['e', 'j', 'i'], ['e', 'k', 'g'], ['e', 'k', 'h'], ['e', 'k', 'i'], ['e', 'l', 'g'], ['e', 'l', 'h'], ['e', 'l', 'i'], ['f', 'j', 'g'], ['f', 'j', 'h'], ['f', 'j', 'i'], ['f', 'k', 'g'], ['f', 'k', 'h'], ['f', 'k', 'i'], ['f', 'l', 'g'], ['f', 'l', 'h']]\n",
      "i:  2  level:  2 flag_list:  [[0, 0, 1], [0, 0, 1], [0, 0, 0]]  l_o:  ['f', 'l', 'h']\n",
      "l_o:  ['f', 'l', 'i'] output:  [['d', 'j', 'g'], ['d', 'j', 'h'], ['d', 'j', 'i'], ['d', 'k', 'g'], ['d', 'k', 'h'], ['d', 'k', 'i'], ['d', 'l', 'g'], ['d', 'l', 'h'], ['d', 'l', 'i'], ['e', 'j', 'g'], ['e', 'j', 'h'], ['e', 'j', 'i'], ['e', 'k', 'g'], ['e', 'k', 'h'], ['e', 'k', 'i'], ['e', 'l', 'g'], ['e', 'l', 'h'], ['e', 'l', 'i'], ['f', 'j', 'g'], ['f', 'j', 'h'], ['f', 'j', 'i'], ['f', 'k', 'g'], ['f', 'k', 'h'], ['f', 'k', 'i'], ['f', 'l', 'g'], ['f', 'l', 'h'], ['f', 'l', 'i']]\n",
      "real_output:  ['djg', 'djh', 'dji', 'dkg', 'dkh', 'dki', 'dlg', 'dlh', 'dli', 'ejg', 'ejh', 'eji', 'ekg', 'ekh', 'eki', 'elg', 'elh', 'eli', 'fjg', 'fjh', 'fji', 'fkg', 'fkh', 'fki', 'flg', 'flh', 'fli']\n",
      "Yay. We got it right.\n"
     ]
    }
   ],
   "source": [
    "input = 354\n",
    "expected_output = sorted([\"djg\", \"ejg\", \"fjg\", \"dkg\", \"ekg\", \"fkg\", \"dlg\", \"elg\", \"flg\", \"djh\", \"ejh\", \"fjh\", \"dkh\", \"ekh\", \"fkh\", \"dlh\", \"elh\", \"flh\", \"dji\", \"eji\", \"fji\", \"dki\", \"eki\", \"fki\", \"dli\", \"eli\", \"fli\"])\n",
    "test_keypad(input, expected_output)"
   ]
  },
  {
   "cell_type": "markdown",
   "metadata": {
    "graffitiCellId": "id_9ibtd5w"
   },
   "source": [
    "<span class=\"graffiti-highlight graffiti-id_9ibtd5w-id_haj1ksk\"><i></i><button>Show Solution</button></span>"
   ]
  }
 ],
 "metadata": {
  "graffiti": {
   "firstAuthorId": "10694620118",
   "id": "id_c01kx0l",
   "language": "EN"
  },
  "kernelspec": {
   "display_name": "Python 3",
   "language": "python",
   "name": "python3"
  },
  "language_info": {
   "codemirror_mode": {
    "name": "ipython",
    "version": 3
   },
   "file_extension": ".py",
   "mimetype": "text/x-python",
   "name": "python",
   "nbconvert_exporter": "python",
   "pygments_lexer": "ipython3",
   "version": "3.6.3"
  }
 },
 "nbformat": 4,
 "nbformat_minor": 2
}
