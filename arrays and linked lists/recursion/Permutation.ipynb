{
 "cells": [
  {
   "cell_type": "markdown",
   "metadata": {
    "graffitiCellId": "id_op9zwiy"
   },
   "source": [
    "# Permutation"
   ]
  },
  {
   "cell_type": "markdown",
   "metadata": {
    "graffitiCellId": "id_h4gumy5"
   },
   "source": [
    "Let's use recursion to help us solve this permutation problem:\n",
    "\n",
    "Given a list of items, the goal is to find all of the permutations of that list. For example, if given a list like: `[\"apple\", \"water\"]`, you could create two permuations from it. One in the form of the original input and one in the reversed order like so: `[\"water\",\"apple\"]`"
   ]
  },
  {
   "cell_type": "code",
   "execution_count": 16,
   "metadata": {
    "graffitiCellId": "id_45biddl"
   },
   "outputs": [],
   "source": [
    "# Code\n",
    "\n",
    "import copy\n",
    "\n",
    "def iter_fun(l, flag_list, l_o, level, output):\n",
    "#     if len(l_o) >= len(l):\n",
    "    if level >= len(l):\n",
    "        output.append(l_o)\n",
    "        print(\"l_o: \", l_o, \"output: \", output)\n",
    "#         l_o = []\n",
    "        return \n",
    "    for i in range(len(l)):\n",
    "        print(\"i: \", i,\" level: \", level, \"flag_list: \", flag_list, \" l_o: \", l_o)\n",
    "        if flag_list[i] == 0:\n",
    "            l_o[level] = copy.deepcopy(l[i])\n",
    "#             print(l_o)\n",
    "#             l_o.append(l[i])\n",
    "            flag_list[i] = 1\n",
    "            iter_fun(l, flag_list, copy.deepcopy(l_o), level + 1, output)\n",
    "            flag_list[i] = 0\n",
    "#             l_o = []\n",
    "    return\n",
    "\n",
    "def permute(l):\n",
    "    \"\"\"\n",
    "    Return a list of permutations\n",
    "    \n",
    "    Examples:\n",
    "       permute([0, 1]) returns [ [0, 1], [1, 0] ]\n",
    "    \n",
    "    Args:\n",
    "      l(list): list of items to be permuted\n",
    "    \n",
    "    Returns:\n",
    "      list of permutation with each permuted item being represented by a list\n",
    "    \"\"\"\n",
    "    length = len(l)\n",
    "    flag_list = [0] * length\n",
    "    print(\"flag_list: \", flag_list)\n",
    "    output = []\n",
    "    l_o = [0] * length\n",
    "#     l_o = []\n",
    "    iter_fun(l, flag_list, l_o, 0, output)\n",
    "    return output\n",
    "    pass"
   ]
  },
  {
   "cell_type": "code",
   "execution_count": 17,
   "metadata": {
    "graffitiCellId": "id_9kv3248"
   },
   "outputs": [
    {
     "name": "stdout",
     "output_type": "stream",
     "text": [
      "flag_list:  []\n",
      "l_o:  [] output:  [[]]\n",
      "Pass\n",
      "flag_list:  [0]\n",
      "i:  0  level:  0 flag_list:  [0]  l_o:  [0]\n",
      "l_o:  [0] output:  [[0]]\n",
      "Pass\n",
      "flag_list:  [0, 0]\n",
      "i:  0  level:  0 flag_list:  [0, 0]  l_o:  [0, 0]\n",
      "i:  0  level:  1 flag_list:  [1, 0]  l_o:  [0, 0]\n",
      "i:  1  level:  1 flag_list:  [1, 0]  l_o:  [0, 0]\n",
      "l_o:  [0, 1] output:  [[0, 1]]\n",
      "i:  1  level:  0 flag_list:  [0, 0]  l_o:  [0, 0]\n",
      "i:  0  level:  1 flag_list:  [0, 1]  l_o:  [1, 0]\n",
      "l_o:  [1, 0] output:  [[0, 1], [1, 0]]\n",
      "i:  1  level:  1 flag_list:  [0, 1]  l_o:  [1, 0]\n",
      "Pass\n",
      "flag_list:  [0, 0, 0]\n",
      "i:  0  level:  0 flag_list:  [0, 0, 0]  l_o:  [0, 0, 0]\n",
      "i:  0  level:  1 flag_list:  [1, 0, 0]  l_o:  [0, 0, 0]\n",
      "i:  1  level:  1 flag_list:  [1, 0, 0]  l_o:  [0, 0, 0]\n",
      "i:  0  level:  2 flag_list:  [1, 1, 0]  l_o:  [0, 1, 0]\n",
      "i:  1  level:  2 flag_list:  [1, 1, 0]  l_o:  [0, 1, 0]\n",
      "i:  2  level:  2 flag_list:  [1, 1, 0]  l_o:  [0, 1, 0]\n",
      "l_o:  [0, 1, 2] output:  [[0, 1, 2]]\n",
      "i:  2  level:  1 flag_list:  [1, 0, 0]  l_o:  [0, 1, 0]\n",
      "i:  0  level:  2 flag_list:  [1, 0, 1]  l_o:  [0, 2, 0]\n",
      "i:  1  level:  2 flag_list:  [1, 0, 1]  l_o:  [0, 2, 0]\n",
      "l_o:  [0, 2, 1] output:  [[0, 1, 2], [0, 2, 1]]\n",
      "i:  2  level:  2 flag_list:  [1, 0, 1]  l_o:  [0, 2, 1]\n",
      "i:  1  level:  0 flag_list:  [0, 0, 0]  l_o:  [0, 0, 0]\n",
      "i:  0  level:  1 flag_list:  [0, 1, 0]  l_o:  [1, 0, 0]\n",
      "i:  0  level:  2 flag_list:  [1, 1, 0]  l_o:  [1, 0, 0]\n",
      "i:  1  level:  2 flag_list:  [1, 1, 0]  l_o:  [1, 0, 0]\n",
      "i:  2  level:  2 flag_list:  [1, 1, 0]  l_o:  [1, 0, 0]\n",
      "l_o:  [1, 0, 2] output:  [[0, 1, 2], [0, 2, 1], [1, 0, 2]]\n",
      "i:  1  level:  1 flag_list:  [0, 1, 0]  l_o:  [1, 0, 0]\n",
      "i:  2  level:  1 flag_list:  [0, 1, 0]  l_o:  [1, 0, 0]\n",
      "i:  0  level:  2 flag_list:  [0, 1, 1]  l_o:  [1, 2, 0]\n",
      "l_o:  [1, 2, 0] output:  [[0, 1, 2], [0, 2, 1], [1, 0, 2], [1, 2, 0]]\n",
      "i:  1  level:  2 flag_list:  [0, 1, 1]  l_o:  [1, 2, 0]\n",
      "i:  2  level:  2 flag_list:  [0, 1, 1]  l_o:  [1, 2, 0]\n",
      "i:  2  level:  0 flag_list:  [0, 0, 0]  l_o:  [1, 0, 0]\n",
      "i:  0  level:  1 flag_list:  [0, 0, 1]  l_o:  [2, 0, 0]\n",
      "i:  0  level:  2 flag_list:  [1, 0, 1]  l_o:  [2, 0, 0]\n",
      "i:  1  level:  2 flag_list:  [1, 0, 1]  l_o:  [2, 0, 0]\n",
      "l_o:  [2, 0, 1] output:  [[0, 1, 2], [0, 2, 1], [1, 0, 2], [1, 2, 0], [2, 0, 1]]\n",
      "i:  2  level:  2 flag_list:  [1, 0, 1]  l_o:  [2, 0, 1]\n",
      "i:  1  level:  1 flag_list:  [0, 0, 1]  l_o:  [2, 0, 0]\n",
      "i:  0  level:  2 flag_list:  [0, 1, 1]  l_o:  [2, 1, 0]\n",
      "l_o:  [2, 1, 0] output:  [[0, 1, 2], [0, 2, 1], [1, 0, 2], [1, 2, 0], [2, 0, 1], [2, 1, 0]]\n",
      "i:  1  level:  2 flag_list:  [0, 1, 1]  l_o:  [2, 1, 0]\n",
      "i:  2  level:  2 flag_list:  [0, 1, 1]  l_o:  [2, 1, 0]\n",
      "i:  2  level:  1 flag_list:  [0, 0, 1]  l_o:  [2, 1, 0]\n",
      "Pass\n"
     ]
    }
   ],
   "source": [
    "# Test Cases \n",
    "\n",
    "# Helper Function\n",
    "def check_output(output, expected_output):\n",
    "    \"\"\"\n",
    "    Return True if output and expected_output\n",
    "    contains the same lists, False otherwise.\n",
    "    \n",
    "    Note that the ordering of the list is not important.\n",
    "    \n",
    "    Examples:\n",
    "        check_output([ [0, 1], [1, 0] ] ], [ [1, 0], [0, 1] ]) returns True\n",
    "\n",
    "    Args:\n",
    "        output(list): list of list\n",
    "        expected_output(list): list of list\n",
    "    \n",
    "    Returns:\n",
    "        bool\n",
    "    \"\"\"\n",
    "    o = copy.deepcopy(output)  # so that we don't mutate input\n",
    "    e = copy.deepcopy(expected_output)  # so that we don't mutate input\n",
    "    \n",
    "    o.sort()\n",
    "    e.sort()\n",
    "    return o == e\n",
    "\n",
    "print (\"Pass\" if  (check_output(permute([]), [[]])) else \"Fail\")\n",
    "print (\"Pass\" if  (check_output(permute([0]), [[0]])) else \"Fail\")\n",
    "print (\"Pass\" if  (check_output(permute([0, 1]), [[0, 1], [1, 0]])) else \"Fail\")\n",
    "print (\"Pass\" if  (check_output(permute([0, 1, 2]), [[0, 1, 2], [0, 2, 1], [1, 0, 2], [1, 2, 0], [2, 0, 1], [2, 1, 0]])) else \"Fail\")"
   ]
  },
  {
   "cell_type": "code",
   "execution_count": null,
   "metadata": {
    "graffitiCellId": "id_al2wv3g"
   },
   "outputs": [],
   "source": [
    "# Solution \n",
    "\n",
    "\n",
    "import copy\n",
    "\n",
    "def permute(l):\n",
    "    \"\"\"\n",
    "    Return a list of permutations\n",
    "\n",
    "    Examples:\n",
    "       permute([0, 1]) returns [ [0, 1], [1, 0] ]\n",
    "\n",
    "    Args:\n",
    "      l(list): list of items to be permuted\n",
    "\n",
    "    Returns:\n",
    "      list of permutation with each permuted item be represented by a list\n",
    "    \"\"\"\n",
    "    perm = []\n",
    "    if len(l) == 0:\n",
    "        perm.append([])\n",
    "    else:\n",
    "        first_element = l[0]\n",
    "        after_first = slice(1, None)\n",
    "        sub_permutes = permute(l[after_first])\n",
    "        for p in sub_permutes:\n",
    "            for j in range(0, len(p) + 1):\n",
    "                r = copy.deepcopy(p)\n",
    "                r.insert(j, first_element)\n",
    "                perm.append(r)\n",
    "    return perm\n",
    "\n",
    "def check_output(output, expected_output):\n",
    "    \"\"\"\n",
    "    Return True if output and expected_output\n",
    "    contains the same lists, False otherwise.\n",
    "    \n",
    "    Note that the ordering of the list is not important.\n",
    "    \n",
    "    Examples:\n",
    "        check_output([ [0, 1], [1, 0] ] ], [ [1, 0], [0, 1] ]) returns True\n",
    "\n",
    "    Args:\n",
    "        output(list): list of list\n",
    "        expected_output(list): list of list\n",
    "    \n",
    "    Returns:\n",
    "        bool\n",
    "    \"\"\"\n",
    "    o = copy.deepcopy(output)  # so that we don't mutate input\n",
    "    e = copy.deepcopy(expected_output)  # so that we don't mutate input\n",
    "    \n",
    "    o.sort()\n",
    "    e.sort()\n",
    "    return o == e\n",
    "\n",
    "print (\"Pass\" if  (check_output(permute([]), [[]])) else \"Fail\")\n",
    "print (\"Pass\" if  (check_output(permute([0]), [[0]])) else \"Fail\")\n",
    "print (\"Pass\" if  (check_output(permute([0, 1]), [[0, 1], [1, 0]])) else \"Fail\")\n",
    "print (\"Pass\" if  (check_output(permute([0, 1, 2]), [[0, 1, 2], [0, 2, 1], [1, 0, 2], [1, 2, 0], [2, 0, 1], [2, 1, 0]])) else \"Fail\")\n"
   ]
  },
  {
   "cell_type": "markdown",
   "metadata": {
    "graffitiCellId": "id_7mkz7sx"
   },
   "source": [
    "<span class=\"graffiti-highlight graffiti-id_7mkz7sx-id_al2wv3g\"><i></i><button>Show Solution</button></span>"
   ]
  }
 ],
 "metadata": {
  "graffiti": {
   "firstAuthorId": "10694620118",
   "id": "id_gm7n621",
   "language": "EN"
  },
  "kernelspec": {
   "display_name": "Python 3",
   "language": "python",
   "name": "python3"
  },
  "language_info": {
   "codemirror_mode": {
    "name": "ipython",
    "version": 3
   },
   "file_extension": ".py",
   "mimetype": "text/x-python",
   "name": "python",
   "nbconvert_exporter": "python",
   "pygments_lexer": "ipython3",
   "version": "3.6.3"
  }
 },
 "nbformat": 4,
 "nbformat_minor": 2
}
