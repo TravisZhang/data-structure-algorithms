{
 "cells": [
  {
   "cell_type": "markdown",
   "metadata": {
    "graffitiCellId": "id_v5swjqy"
   },
   "source": [
    "### Problem Statement\n",
    "\n",
    "Suppose there is a staircase that you can climb in either 1 step, 2 steps, or 3 steps. In how many possible ways can you climb the staircase if the staircase has `n` steps? Write a recursive function to solve the problem.\n",
    "\n",
    "**Example:**\n",
    "\n",
    "* `n = 3`\n",
    "* `output = 4`\n",
    "    \n",
    "The output is `4` because there are four ways we can climb the staircase:\n",
    "    \n",
    "    1. 1 step +  1 step + 1 step\n",
    "    2. 1 step + 2 steps \n",
    "    3. 2 steps + 1 step\n",
    "    4. 3 steps"
   ]
  },
  {
   "cell_type": "code",
   "execution_count": 7,
   "metadata": {
    "graffitiCellId": "id_yv3ymjf"
   },
   "outputs": [],
   "source": [
    "import copy\n",
    "\n",
    "def iter_fun(n, count, p, output):\n",
    "    print(\"n: \", n, \" count: \", count, \" p: \", p, \" output: \", output)\n",
    "    if (n == 0):\n",
    "        output.append(p)\n",
    "        return\n",
    "    for i in range(n):\n",
    "        p[count] = i + 1\n",
    "        iter_fun(n - i - 1, count + 1, copy.deepcopy(p), output)\n",
    "    return\n",
    "\n",
    "def staircase(n):\n",
    "    \"\"\"\n",
    "    :param: n - number of steps in the staircase\n",
    "    Return number of possible ways in which you can climb the staircase\n",
    "    TODO - write a recursive function to solve this problem\n",
    "    \"\"\"\n",
    "    output = []\n",
    "    p = [0] * n\n",
    "    iter_fun(n, 0, p, output)\n",
    "    print(output)\n",
    "    print(len(output))\n",
    "    return len(output)\n",
    "    pass"
   ]
  },
  {
   "cell_type": "markdown",
   "metadata": {
    "graffitiCellId": "id_w7lklez"
   },
   "source": [
    "<span class=\"graffiti-highlight graffiti-id_w7lklez-id_brqvnra\"><i></i><button>Hide Solution</button></span>"
   ]
  },
  {
   "cell_type": "code",
   "execution_count": null,
   "metadata": {
    "graffitiCellId": "id_brqvnra"
   },
   "outputs": [],
   "source": [
    "# Solution\n",
    "## Read input as specified in the question.\n",
    "## Print output as specified in the question.\n",
    "\n",
    "\n",
    "def staircase(n):\n",
    "    if n <= 0:\n",
    "        return 1\n",
    "    \n",
    "    if n == 1:\n",
    "        return 1\n",
    "    elif n == 2:\n",
    "        return 2\n",
    "    elif n == 3:\n",
    "        return 4\n",
    "    \n",
    "    return staircase(n - 1) + staircase(n - 2) + staircase(n - 3)"
   ]
  },
  {
   "cell_type": "code",
   "execution_count": 3,
   "metadata": {
    "graffitiCellId": "id_qnr80ry"
   },
   "outputs": [],
   "source": [
    "def test_function(test_case):\n",
    "    n = test_case[0]\n",
    "    solution = test_case[1]\n",
    "    output = staircase(n)\n",
    "    if output == solution:\n",
    "        print(\"Pass\")\n",
    "    else:\n",
    "        print(\"Fail\")"
   ]
  },
  {
   "cell_type": "code",
   "execution_count": 8,
   "metadata": {
    "graffitiCellId": "id_6g7yxbj"
   },
   "outputs": [
    {
     "name": "stdout",
     "output_type": "stream",
     "text": [
      "n:  3  count:  0  p:  [0, 0, 0]  output:  []\n",
      "n:  2  count:  1  p:  [1, 0, 0]  output:  []\n",
      "n:  1  count:  2  p:  [1, 1, 0]  output:  []\n",
      "n:  0  count:  3  p:  [1, 1, 1]  output:  []\n",
      "n:  0  count:  2  p:  [1, 2, 0]  output:  [[1, 1, 1]]\n",
      "n:  1  count:  1  p:  [2, 0, 0]  output:  [[1, 1, 1], [1, 2, 0]]\n",
      "n:  0  count:  2  p:  [2, 1, 0]  output:  [[1, 1, 1], [1, 2, 0]]\n",
      "n:  0  count:  1  p:  [3, 0, 0]  output:  [[1, 1, 1], [1, 2, 0], [2, 1, 0]]\n",
      "[[1, 1, 1], [1, 2, 0], [2, 1, 0], [3, 0, 0]]\n",
      "4\n",
      "Pass\n"
     ]
    }
   ],
   "source": [
    "n = 3\n",
    "solution = 4\n",
    "test_case = [n, solution]\n",
    "test_function(test_case)"
   ]
  },
  {
   "cell_type": "code",
   "execution_count": 12,
   "metadata": {
    "graffitiCellId": "id_1q0pz7y"
   },
   "outputs": [
    {
     "name": "stdout",
     "output_type": "stream",
     "text": [
      "[[1, 1, 1, 1], [1, 1, 2, 0], [1, 2, 1, 0], [1, 3, 0, 0], [2, 1, 1, 0], [2, 2, 0, 0], [3, 1, 0, 0], [4, 0, 0, 0]]\n",
      "8\n",
      "Fail\n"
     ]
    }
   ],
   "source": [
    "n = 4\n",
    "solution = 7\n",
    "test_case = [n, solution]\n",
    "test_function(test_case)"
   ]
  },
  {
   "cell_type": "code",
   "execution_count": 13,
   "metadata": {
    "graffitiCellId": "id_p3uxb7h"
   },
   "outputs": [
    {
     "name": "stdout",
     "output_type": "stream",
     "text": [
      "[[1, 1, 1, 1, 1, 1, 1], [1, 1, 1, 1, 1, 2, 0], [1, 1, 1, 1, 2, 1, 0], [1, 1, 1, 1, 3, 0, 0], [1, 1, 1, 2, 1, 1, 0], [1, 1, 1, 2, 2, 0, 0], [1, 1, 1, 3, 1, 0, 0], [1, 1, 1, 4, 0, 0, 0], [1, 1, 2, 1, 1, 1, 0], [1, 1, 2, 1, 2, 0, 0], [1, 1, 2, 2, 1, 0, 0], [1, 1, 2, 3, 0, 0, 0], [1, 1, 3, 1, 1, 0, 0], [1, 1, 3, 2, 0, 0, 0], [1, 1, 4, 1, 0, 0, 0], [1, 1, 5, 0, 0, 0, 0], [1, 2, 1, 1, 1, 1, 0], [1, 2, 1, 1, 2, 0, 0], [1, 2, 1, 2, 1, 0, 0], [1, 2, 1, 3, 0, 0, 0], [1, 2, 2, 1, 1, 0, 0], [1, 2, 2, 2, 0, 0, 0], [1, 2, 3, 1, 0, 0, 0], [1, 2, 4, 0, 0, 0, 0], [1, 3, 1, 1, 1, 0, 0], [1, 3, 1, 2, 0, 0, 0], [1, 3, 2, 1, 0, 0, 0], [1, 3, 3, 0, 0, 0, 0], [1, 4, 1, 1, 0, 0, 0], [1, 4, 2, 0, 0, 0, 0], [1, 5, 1, 0, 0, 0, 0], [1, 6, 0, 0, 0, 0, 0], [2, 1, 1, 1, 1, 1, 0], [2, 1, 1, 1, 2, 0, 0], [2, 1, 1, 2, 1, 0, 0], [2, 1, 1, 3, 0, 0, 0], [2, 1, 2, 1, 1, 0, 0], [2, 1, 2, 2, 0, 0, 0], [2, 1, 3, 1, 0, 0, 0], [2, 1, 4, 0, 0, 0, 0], [2, 2, 1, 1, 1, 0, 0], [2, 2, 1, 2, 0, 0, 0], [2, 2, 2, 1, 0, 0, 0], [2, 2, 3, 0, 0, 0, 0], [2, 3, 1, 1, 0, 0, 0], [2, 3, 2, 0, 0, 0, 0], [2, 4, 1, 0, 0, 0, 0], [2, 5, 0, 0, 0, 0, 0], [3, 1, 1, 1, 1, 0, 0], [3, 1, 1, 2, 0, 0, 0], [3, 1, 2, 1, 0, 0, 0], [3, 1, 3, 0, 0, 0, 0], [3, 2, 1, 1, 0, 0, 0], [3, 2, 2, 0, 0, 0, 0], [3, 3, 1, 0, 0, 0, 0], [3, 4, 0, 0, 0, 0, 0], [4, 1, 1, 1, 0, 0, 0], [4, 1, 2, 0, 0, 0, 0], [4, 2, 1, 0, 0, 0, 0], [4, 3, 0, 0, 0, 0, 0], [5, 1, 1, 0, 0, 0, 0], [5, 2, 0, 0, 0, 0, 0], [6, 1, 0, 0, 0, 0, 0], [7, 0, 0, 0, 0, 0, 0]]\n",
      "64\n",
      "Fail\n"
     ]
    }
   ],
   "source": [
    "n = 7\n",
    "solution = 44\n",
    "test_case = [n, solution]\n",
    "test_function(test_case)"
   ]
  },
  {
   "cell_type": "code",
   "execution_count": 4,
   "metadata": {
    "graffitiCellId": "id_8rd4t5d"
   },
   "outputs": [
    {
     "name": "stdout",
     "output_type": "stream",
     "text": [
      "[[1, 1, 1, 1, 1], [1, 1, 1, 2, 0], [1, 1, 2, 1, 0], [1, 1, 3, 0, 0], [1, 2, 1, 1, 0], [1, 2, 2, 0, 0], [1, 3, 1, 0, 0], [1, 4, 0, 0, 0], [2, 1, 1, 1, 0], [2, 1, 2, 0, 0], [2, 2, 1, 0, 0], [2, 3, 0, 0, 0], [3, 1, 1, 0, 0], [3, 2, 0, 0, 0], [4, 1, 0, 0, 0], [5, 0, 0, 0, 0]]\n",
      "16\n",
      "Fail\n"
     ]
    }
   ],
   "source": [
    "n = 5\n",
    "solution = 13\n",
    "test_case = [n, solution]\n",
    "test_function(test_case)"
   ]
  },
  {
   "cell_type": "code",
   "execution_count": null,
   "metadata": {
    "graffitiCellId": "id_4nia0tl"
   },
   "outputs": [],
   "source": []
  }
 ],
 "metadata": {
  "graffiti": {
   "firstAuthorId": "dev",
   "id": "id_qnn6fxn",
   "language": "EN"
  },
  "kernelspec": {
   "display_name": "Python 3",
   "language": "python",
   "name": "python3"
  },
  "language_info": {
   "codemirror_mode": {
    "name": "ipython",
    "version": 3
   },
   "file_extension": ".py",
   "mimetype": "text/x-python",
   "name": "python",
   "nbconvert_exporter": "python",
   "pygments_lexer": "ipython3",
   "version": "3.6.3"
  }
 },
 "nbformat": 4,
 "nbformat_minor": 2
}
