{
 "cells": [
  {
   "cell_type": "markdown",
   "metadata": {
    "graffitiCellId": "id_9vap74c"
   },
   "source": [
    "### Problem Statement\n",
    "\n",
    "You have been given an array containg numbers. Find and return the largest sum in a contiguous subarray within the input array.\n",
    "\n",
    "**Example 1:**\n",
    "* `arr= [1, 2, 3, -4, 6]`\n",
    "* The largest sum is `8`, which is the sum of all elements of the array.\n",
    "\n",
    "**Example 2:**\n",
    "* `arr = [1, 2, -5, -4, 1, 6]`\n",
    "* The largest sum is `7`, which is the sum of the last two elements of the array.\n",
    "\n",
    "\n",
    "\n",
    " "
   ]
  },
  {
   "cell_type": "code",
   "execution_count": 11,
   "metadata": {
    "graffitiCellId": "id_ok5cosl"
   },
   "outputs": [],
   "source": [
    "def max_sum_subarray(arr):\n",
    "    \"\"\"\n",
    "    :param - arr - input array\n",
    "    return - number - largest sum in contiguous subarry within arr\n",
    "    therom: the sum start before the num will not be bigger than the sum start from the num when\n",
    "    the num is bigger than current sum\n",
    "    \"\"\"\n",
    "    c_sum = 0\n",
    "    m_sum = 0\n",
    "    for i in range(len(arr)):\n",
    "        c_sum = max(arr[i], c_sum + arr[i])\n",
    "        if c_sum > m_sum:\n",
    "            m_sum = c_sum\n",
    "    \n",
    "    return m_sum\n",
    "    pass"
   ]
  },
  {
   "cell_type": "code",
   "execution_count": null,
   "metadata": {
    "graffitiCellId": "id_3hqoizc"
   },
   "outputs": [],
   "source": [
    "# Solution\n",
    "def max_sum_subarray(arr):\n",
    "    max_sum = arr[0]\n",
    "    current_sum = arr[0]\n",
    "\n",
    "    for num in arr[1:]:\n",
    "        current_sum = max(current_sum + num, num)\n",
    "        max_sum = max(current_sum, max_sum)\n",
    "    return max_sum"
   ]
  },
  {
   "cell_type": "markdown",
   "metadata": {
    "graffitiCellId": "id_qy59phn"
   },
   "source": [
    "<span class=\"graffiti-highlight graffiti-id_qy59phn-id_3hqoizc\"><i></i><button>Show Solution</button></span>"
   ]
  },
  {
   "cell_type": "code",
   "execution_count": 12,
   "metadata": {
    "graffitiCellId": "id_x2c4yaf"
   },
   "outputs": [],
   "source": [
    "def test_function(test_case):\n",
    "    arr = test_case[0]\n",
    "    solution = test_case[1]\n",
    "    \n",
    "    output = max_sum_subarray(arr)\n",
    "    print(output)\n",
    "    if output == solution:\n",
    "        print(\"Pass\")\n",
    "    else:\n",
    "        print(\"Fail\")"
   ]
  },
  {
   "cell_type": "code",
   "execution_count": 13,
   "metadata": {
    "graffitiCellId": "id_ocg7bal"
   },
   "outputs": [
    {
     "name": "stdout",
     "output_type": "stream",
     "text": [
      "8\n",
      "Pass\n"
     ]
    }
   ],
   "source": [
    "arr= [1, 2, 3, -4, 6]\n",
    "solution= 8 # sum of array\n",
    "\n",
    "test_case = [arr, solution]\n",
    "test_function(test_case)"
   ]
  },
  {
   "cell_type": "code",
   "execution_count": 14,
   "metadata": {
    "graffitiCellId": "id_vepfpek"
   },
   "outputs": [
    {
     "name": "stdout",
     "output_type": "stream",
     "text": [
      "7\n",
      "Pass\n"
     ]
    }
   ],
   "source": [
    "arr = [1, 2, -5, -4, 1, 6]\n",
    "solution = 7   # sum of last two elements\n",
    "\n",
    "test_case = [arr, solution]\n",
    "test_function(test_case)"
   ]
  },
  {
   "cell_type": "code",
   "execution_count": 15,
   "metadata": {
    "graffitiCellId": "id_78na1mt"
   },
   "outputs": [
    {
     "name": "stdout",
     "output_type": "stream",
     "text": [
      "18\n",
      "Pass\n"
     ]
    }
   ],
   "source": [
    "arr = [-12, 15, -13, 14, -1, 2, 1, -5, 4]\n",
    "solution = 18  # sum of subarray = [15, -13, 14, -1, 2, 1]\n",
    "\n",
    "test_case = [arr, solution]\n",
    "test_function(test_case)"
   ]
  },
  {
   "cell_type": "code",
   "execution_count": null,
   "metadata": {
    "graffitiCellId": "id_zz4apwu"
   },
   "outputs": [],
   "source": []
  }
 ],
 "metadata": {
  "graffiti": {
   "firstAuthorId": "dev",
   "id": "id_jzh7rvz",
   "language": "EN"
  },
  "kernelspec": {
   "display_name": "Python 3",
   "language": "python",
   "name": "python3"
  },
  "language_info": {
   "codemirror_mode": {
    "name": "ipython",
    "version": 3
   },
   "file_extension": ".py",
   "mimetype": "text/x-python",
   "name": "python",
   "nbconvert_exporter": "python",
   "pygments_lexer": "ipython3",
   "version": "3.6.3"
  }
 },
 "nbformat": 4,
 "nbformat_minor": 2
}
